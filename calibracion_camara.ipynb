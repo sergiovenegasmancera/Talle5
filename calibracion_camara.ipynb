{
 "cells": [
  {
   "cell_type": "code",
   "execution_count": 7,
   "metadata": {},
   "outputs": [
    {
     "name": "stdout",
     "output_type": "stream",
     "text": [
      "{'K': [[770.8314262922523, 0.0, 483.0177694648179], [0.0, 773.873653043318, 353.15583669349905], [0.0, 0.0, 1.0]], 'd': 3, 'h': 2, 'pan': 0, 'tilt': 30}\n"
     ]
    }
   ],
   "source": [
    "import numpy as np\n",
    "import cv2\n",
    "import glob\n",
    "import os\n",
    "import json\n",
    "\n",
    "# termination criteria\n",
    "criteria = (cv2.TERM_CRITERIA_EPS + cv2.TERM_CRITERIA_MAX_ITER, 30, 0.001)\n",
    "\n",
    "# prepare object points, like (0,0,0), (1,0,0), (2,0,0) ....,(6,5,0)\n",
    "objp = np.zeros((7 * 7, 3), np.float32)\n",
    "objp[:, :2] = np.mgrid[0:7, 0:7].T.reshape(-1, 2)\n",
    "\n",
    "# Arrays to store object points and image points from all the images.\n",
    "objpoints = []  # 3d point in real world space\n",
    "imgpoints = []  # 2d points in image plane.\n",
    "\n",
    "path = './Imagenes_CEL/'\n",
    "#path_file = os.path.join(path, 'left*.jpg')\n",
    "path_file = './Imagenes_CEL/left*.jpg'\n",
    "images = glob.glob(path_file)\n",
    "\n",
    "for fname in images:\n",
    "    img = cv2.imread(fname)\n",
    "    \n",
    "    WIDTH = 960\n",
    "    HEIGHT = 720\n",
    "    img = cv2.resize(img, (WIDTH,HEIGHT), interpolation=cv2.INTER_CUBIC)\n",
    "    \n",
    "    gray = cv2.cvtColor(img, cv2.COLOR_BGR2GRAY)\n",
    "    cv2.imshow('img', gray)\n",
    "    cv2.waitKey(250)\n",
    "\n",
    "    # Find the chess board corners\n",
    "    ret, corners = cv2.findChessboardCorners(gray, (7, 7), None)\n",
    "\n",
    "    # If found, add object points, image points (after refining them)\n",
    "    if ret == True:\n",
    "        objpoints.append(objp)\n",
    "\n",
    "        corners2 = cv2.cornerSubPix(gray, corners, (11, 11), (-1, -1), criteria)\n",
    "        imgpoints.append(corners2)\n",
    "\n",
    "        # Draw and display the corners\n",
    "        img = cv2.drawChessboardCorners(img, (7, 7), corners2, ret)\n",
    "        cv2.imshow('img', img)\n",
    "        cv2.waitKey(250)\n",
    "\n",
    "cv2.destroyAllWindows()\n",
    "\n",
    "\n",
    "\n",
    "ret, mtx, dist, rvecs, tvecs = cv2.calibrateCamera(objpoints, imgpoints, gray.shape[::-1], None, None)\n",
    "d = 3\n",
    "h = 2\n",
    "tilt = 30\n",
    "pan = 0\n",
    "\n",
    "file_name = 'calibration.json'\n",
    "json_file = os.path.join(path, file_name)\n",
    "\n",
    "data = {\n",
    "    'K': mtx.tolist(),\n",
    "    'd': d,\n",
    "    'h': h,\n",
    "    'tilt': tilt,\n",
    "    'pan': pan\n",
    "    #'distortion': dist.tolist()\n",
    "}\n",
    "\n",
    "with open(json_file, 'w') as fp:\n",
    "    json.dump(data, fp, sort_keys=True, indent=1, ensure_ascii=False)\n",
    "\n",
    "with open(json_file) as fp:\n",
    "    json_data = json.load(fp)\n",
    "print(json_data)\n"
   ]
  },
  {
   "cell_type": "code",
   "execution_count": null,
   "metadata": {},
   "outputs": [],
   "source": []
  },
  {
   "cell_type": "code",
   "execution_count": null,
   "metadata": {},
   "outputs": [],
   "source": []
  },
  {
   "cell_type": "code",
   "execution_count": null,
   "metadata": {},
   "outputs": [],
   "source": []
  }
 ],
 "metadata": {
  "kernelspec": {
   "display_name": "Python 3",
   "language": "python",
   "name": "python3"
  },
  "language_info": {
   "codemirror_mode": {
    "name": "ipython",
    "version": 3
   },
   "file_extension": ".py",
   "mimetype": "text/x-python",
   "name": "python",
   "nbconvert_exporter": "python",
   "pygments_lexer": "ipython3",
   "version": "3.8.3"
  }
 },
 "nbformat": 4,
 "nbformat_minor": 4
}
